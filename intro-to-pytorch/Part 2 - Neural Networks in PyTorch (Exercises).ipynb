{
 "cells": [
  {
   "cell_type": "markdown",
   "metadata": {},
   "source": [
    "# Neural networks with PyTorch\n",
    "\n",
    "Deep learning networks tend to be massive with dozens or hundreds of layers, that's where the term \"deep\" comes from. You can build one of these deep networks using only weight matrices as we did in the previous notebook, but in general it's very cumbersome and difficult to implement. PyTorch has a nice module `nn` that provides a nice way to efficiently build large neural networks."
   ]
  },
  {
   "cell_type": "code",
   "execution_count": 1,
   "metadata": {},
   "outputs": [],
   "source": [
    "# Import necessary packages\n",
    "\n",
    "%matplotlib inline\n",
    "%config InlineBackend.figure_format = 'retina'\n",
    "\n",
    "import numpy as np\n",
    "import torch\n",
    "\n",
    "import helper\n",
    "\n",
    "import matplotlib.pyplot as plt"
   ]
  },
  {
   "cell_type": "markdown",
   "metadata": {},
   "source": [
    "\n",
    "Now we're going to build a larger network that can solve a (formerly) difficult problem, identifying text in an image. Here we'll use the MNIST dataset which consists of greyscale handwritten digits. Each image is 28x28 pixels, you can see a sample below\n",
    "\n",
    "<img src='assets/mnist.png'>\n",
    "\n",
    "Our goal is to build a neural network that can take one of these images and predict the digit in the image.\n",
    "\n",
    "First up, we need to get our dataset. This is provided through the `torchvision` package. The code below will download the MNIST dataset, then create training and test datasets for us. Don't worry too much about the details here, you'll learn more about this later."
   ]
  },
  {
   "cell_type": "code",
   "execution_count": 2,
   "metadata": {},
   "outputs": [
    {
     "name": "stdout",
     "output_type": "stream",
     "text": [
      "Downloading http://yann.lecun.com/exdb/mnist/train-images-idx3-ubyte.gz\n",
      "Downloading http://yann.lecun.com/exdb/mnist/train-labels-idx1-ubyte.gz\n",
      "Downloading http://yann.lecun.com/exdb/mnist/t10k-images-idx3-ubyte.gz\n",
      "Downloading http://yann.lecun.com/exdb/mnist/t10k-labels-idx1-ubyte.gz\n",
      "Processing...\n",
      "Done!\n"
     ]
    }
   ],
   "source": [
    "### Run this cell\n",
    "\n",
    "from torchvision import datasets, transforms\n",
    "\n",
    "# Define a transform to normalize the data\n",
    "transform = transforms.Compose([transforms.ToTensor(),\n",
    "                              transforms.Normalize((0.5,), (0.5,)),\n",
    "                              ])\n",
    "\n",
    "# Download and load the training data\n",
    "trainset = datasets.MNIST('~/.pytorch/MNIST_data/', download=True, train=True, transform=transform)\n",
    "trainloader = torch.utils.data.DataLoader(trainset, batch_size=64, shuffle=True)"
   ]
  },
  {
   "cell_type": "markdown",
   "metadata": {},
   "source": [
    "We have the training data loaded into `trainloader` and we make that an iterator with `iter(trainloader)`. Later, we'll use this to loop through the dataset for training, like\n",
    "\n",
    "```python\n",
    "for image, label in trainloader:\n",
    "    ## do things with images and labels\n",
    "```\n",
    "\n",
    "You'll notice I created the `trainloader` with a batch size of 64, and `shuffle=True`. The batch size is the number of images we get in one iteration from the data loader and pass through our network, often called a *batch*. And `shuffle=True` tells it to shuffle the dataset every time we start going through the data loader again. But here I'm just grabbing the first batch so we can check out the data. We can see below that `images` is just a tensor with size `(64, 1, 28, 28)`. So, 64 images per batch, 1 color channel, and 28x28 images."
   ]
  },
  {
   "cell_type": "code",
   "execution_count": 3,
   "metadata": {},
   "outputs": [
    {
     "name": "stdout",
     "output_type": "stream",
     "text": [
      "<class 'torch.Tensor'>\n",
      "torch.Size([64, 1, 28, 28])\n",
      "torch.Size([64])\n"
     ]
    }
   ],
   "source": [
    "dataiter = iter(trainloader)\n",
    "images, labels = dataiter.next()\n",
    "print(type(images))\n",
    "print(images.shape)\n",
    "print(labels.shape)"
   ]
  },
  {
   "cell_type": "markdown",
   "metadata": {},
   "source": [
    "This is what one of the images looks like. "
   ]
  },
  {
   "cell_type": "code",
   "execution_count": 4,
   "metadata": {},
   "outputs": [
    {
     "data": {
      "image/png": "[encoded data removed]",
      "text/plain": [
       "<matplotlib.figure.Figure at 0x7f6ec7f82208>"
      ]
     },
     "metadata": {
      "image/png": {
       "height": 250,
       "width": 253
      },
      "needs_background": "light"
     },
     "output_type": "display_data"
    }
   ],
   "source": [
    "plt.imshow(images[1].numpy().squeeze(), cmap='Greys_r');"
   ]
  },
  {
   "cell_type": "markdown",
   "metadata": {},
   "source": [
    "First, let's try to build a simple network for this dataset using weight matrices and matrix multiplications. Then, we'll see how to do it using PyTorch's `nn` module which provides a much more convenient and powerful method for defining network architectures.\n",
    "\n",
    "The networks you've seen so far are called *fully-connected* or *dense* networks. Each unit in one layer is connected to each unit in the next layer. In fully-connected networks, the input to each layer must be a one-dimensional vector (which can be stacked into a 2D tensor as a batch of multiple examples). However, our images are 28x28 2D tensors, so we need to convert them into 1D vectors. Thinking about sizes, we need to convert the batch of images with shape `(64, 1, 28, 28)` to a have a shape of `(64, 784)`, 784 is 28 times 28. This is typically called *flattening*, we flattened the 2D images into 1D vectors.\n",
    "\n",
    "Previously you built a network with one output unit. Here we need 10 output units, one for each digit. We want our network to predict the digit shown in an image, so what we'll do is calculate probabilities that the image is of any one digit or class. This ends up being a discrete probability distribution over the classes (digits) that tells us the most likely class for the image. That means we need 10 output units for the 10 classes (digits). We'll see how to convert the network output into a probability distribution next.\n",
    "\n",
    "> **Exercise:** Flatten the batch of images `images`. Then build a multi-layer network with 784 input units, 256 hidden units, and 10 output units using random tensors for the weights and biases. For now, use a sigmoid activation for the hidden layer. Leave the output layer without an activation, we'll add one that gives us a probability distribution next."
   ]
  },
  {
   "cell_type": "code",
   "execution_count": 5,
   "metadata": {},
   "outputs": [],
   "source": [
    "def activation(x):\n",
    "    \"\"\" Sigmoid activation function \n",
    "    \n",
    "        Arguments\n",
    "        ---------\n",
    "        x: torch.Tensor\n",
    "    \"\"\"\n",
    "    return 1/(1+torch.exp(-x))"
   ]
  },
  {
   "cell_type": "code",
   "execution_count": 8,
   "metadata": {},
   "outputs": [
    {
     "name": "stdout",
     "output_type": "stream",
     "text": [
      "tensor([[-14.1314,   2.1297,  12.0908,   4.6063,  19.7437,  13.3775,\n",
      "         -29.6684,  -8.6591,  30.0812,   8.9434],\n",
      "        [ -0.6554,   7.3338,   6.7233,  11.5187,  21.6171,   9.7330,\n",
      "         -19.8886,   3.2387,   5.0588,   0.5251],\n",
      "        [ -4.7756,   7.2263,   4.4760,   5.1769,  31.1101,  25.3181,\n",
      "         -26.5807,  -1.9222,  23.6215,  12.5715],\n",
      "        [ -1.4384,   3.1547,   2.8188,  12.2362,  30.4998,  26.4342,\n",
      "         -24.8950,  -1.4194,  15.9751,  11.7380],\n",
      "        [ -0.1053,   9.7220,  12.0163, -14.4979,  23.1581,  22.6279,\n",
      "         -32.0209,   4.0050,   8.2923,   9.0851],\n",
      "        [ -9.9949,   5.3906,  14.7228,   5.1431,  29.8380,  19.6852,\n",
      "         -24.1070,  -2.4837,  11.9183,   1.2988],\n",
      "        [ -2.0480,   7.4867,   3.9943,  -1.6353,  24.6876,  26.2655,\n",
      "         -20.6168,   2.9830,  16.2215,  10.0169],\n",
      "        [ -4.5604,  -2.3578,   6.5368,  13.8088,  31.1668,  11.5890,\n",
      "         -23.1096,   1.2277,  12.3029,   5.8212],\n",
      "        [-22.3520,   1.7155,   9.9942,   0.8341,  29.2231,  23.4249,\n",
      "         -32.2899,  -0.9127,  15.4366,   9.9445],\n",
      "        [ -4.8452,   9.1848,  -1.5042,   1.6380,  25.9033,  16.7201,\n",
      "         -26.3906,   0.5728,  19.7541,  12.0427],\n",
      "        [-14.3111,  -5.8494,   2.2913,  11.7393,  29.0608,  24.3988,\n",
      "         -24.3876,   5.9810,  20.3775,  10.8644],\n",
      "        [ -9.7977,   7.4525,   5.9611,  -3.2446,  26.5741,  24.5831,\n",
      "         -20.3750,  -1.7789,  10.3017,  14.4594],\n",
      "        [  0.2994,   4.9832,   7.4576,   5.1690,  21.7015,  16.9271,\n",
      "         -16.9659,  -8.5381,  17.6714,   8.1143],\n",
      "        [-16.8554,   8.7220,  -1.2504,   3.6720,  23.2249,  25.4191,\n",
      "         -29.6460,  -2.6628,   7.5297,   9.6942],\n",
      "        [-13.1786,   1.8146,  17.2651,   7.1784,  26.7831,  15.7151,\n",
      "         -32.0689,   0.0786,  19.7400,  14.6142],\n",
      "        [ -0.1768,   1.7131,  14.0574,   4.5834,  26.4559,  18.5981,\n",
      "         -17.4471,  -3.4561,   4.9051,   4.7472],\n",
      "        [  1.0589,  14.0882,   5.2787,   5.2338,  28.9378,   4.1031,\n",
      "         -14.4859,   8.0430,  14.0559,  -0.1157],\n",
      "        [ -2.3399,  -2.8939,   3.5134,   3.8536,  20.0251,  21.1257,\n",
      "         -22.1489,   1.1919,  16.6630,   6.9944],\n",
      "        [-10.1082,   4.1853,   8.6532,  -5.8567,  32.3368,  17.8107,\n",
      "         -16.8778,  -3.7103,  14.0140,  -2.9822],\n",
      "        [-10.8700,   2.5446,   1.3041,   7.6309,  25.1888,  17.1344,\n",
      "         -24.1549,  -3.3960,  29.0211,  15.8141],\n",
      "        [  1.7401,   2.0470,   7.3623,   4.3293,  23.7094,  24.1944,\n",
      "         -29.4189,  -7.2296,   9.8248,   4.0814],\n",
      "        [ -6.0943,   4.7211,   7.2253,   5.8166,  28.3689,   8.5552,\n",
      "         -20.0282,  -3.7848,  10.7279,  -2.9127],\n",
      "        [ -4.8483,   2.1774,   5.6397,   0.6112,  23.3563,  15.9924,\n",
      "         -17.1005,  -4.6516,  15.3476,   5.4017],\n",
      "        [ -3.9488,   5.9015,  -4.0492,   2.3757,  28.6916,  20.1678,\n",
      "         -22.2209,  -0.1447,  12.4470,   7.5906],\n",
      "        [ -4.1904,  -6.6581,   9.5169,  13.3104,  28.3476,  15.8169,\n",
      "         -20.5837,  -1.3320,  19.1065,   8.8477],\n",
      "        [ -7.3181,   9.6690,   6.5336,   3.4686,  15.0799,  22.2556,\n",
      "         -25.4198,   5.3543,   7.8388,   8.7845],\n",
      "        [  0.3032,   4.0783,   9.3067,  -2.8426,  24.3912,   9.6262,\n",
      "         -17.6013,   1.6977,   6.4600,   3.6007],\n",
      "        [ -3.2536,   4.9966,   7.8140,   2.0197,  28.9988,  16.0417,\n",
      "         -18.1397,   7.8174,  18.4987,   1.0294],\n",
      "        [ -1.2070,  -6.3053,   4.8627,  12.1381,  27.3238,  17.4075,\n",
      "         -21.5159,  -4.5975,  15.8564,   0.0237],\n",
      "        [-10.0923,   4.4574,  12.3911,   7.7301,  29.2241,  13.6341,\n",
      "         -29.1742,   6.7339,  22.0320,   5.4965],\n",
      "        [ -7.0442,  -1.7391,  10.6412,  11.8078,  27.8909,  12.3286,\n",
      "         -22.4049,   1.4120,  23.5958,  21.0260],\n",
      "        [ -9.3616,  11.6074,   0.6215,  10.6643,  26.2565,  13.6028,\n",
      "         -19.3520,   3.7152,  15.4455,  11.0448],\n",
      "        [ -6.9868,   2.8139,   8.1556,  14.9652,  33.9087,  16.8145,\n",
      "         -18.2087,  -3.8436,  25.2587,  14.6075],\n",
      "        [ -3.7582,   6.5867,  13.3582,   5.3270,  31.8759,  20.0624,\n",
      "         -22.8783,  -5.0560,   8.7433,  14.3552],\n",
      "        [  6.7552,   6.7615,   8.1538,   0.9367,  32.3341,  17.6690,\n",
      "         -26.9190,   5.6392,   7.8886,   7.9791],\n",
      "        [ -9.3731,  -0.1941,  16.0929,   4.9353,  29.8312,  19.7462,\n",
      "         -17.1745,   5.0900,  14.8306,  14.4600],\n",
      "        [ -7.3369,   7.2200,   2.4725,   2.2899,  23.7671,  19.6205,\n",
      "         -26.4425,  -4.5105,  16.0730,  12.0339],\n",
      "        [ -7.9728,  -3.7818,  -1.3910,   7.6488,  20.5816,  23.3357,\n",
      "         -25.1414,   2.1403,  11.5680,   2.6172],\n",
      "        [ -0.0152,   2.4573,   6.1644,  -2.2175,  31.5562,  24.1482,\n",
      "         -23.7673,  -0.8421,  11.5611,  19.7930],\n",
      "        [ -5.9519,   0.8411,   4.2632,   6.6830,  33.0241,  19.5361,\n",
      "         -22.1634,   2.9250,  15.2235,  19.9367],\n",
      "        [ -6.3259,   8.8908,  11.8743,   5.8291,  28.9171,  18.1067,\n",
      "         -16.1702,   6.9129,   8.0411,   0.0996],\n",
      "        [  2.8604,   0.2394,   4.4675,   2.5416,  19.3598,   3.3481,\n",
      "         -18.3645,  -2.1678,   9.9536,   5.3526],\n",
      "        [  6.0382,  10.2098,   4.0703,   2.8585,  31.6987,  24.7352,\n",
      "         -17.4007,  -1.5592,  11.6726,   8.5335],\n",
      "        [ -8.9423,   1.9747,   5.0416,  11.5082,  18.1213,  11.3491,\n",
      "         -22.8838,   2.2436,  23.2234,   4.8958],\n",
      "        [ -2.4919,   1.2687,   8.2908,   8.4351,  29.2503,  23.3119,\n",
      "         -23.3195,   2.3148,  18.1252,   8.2464],\n",
      "        [ -6.9088,   7.3020,  10.7989,   3.0392,  32.6695,  25.1104,\n",
      "         -24.7645,   3.7947,   9.0509,   2.7972],\n",
      "        [ -7.4341,   6.8893,   1.7508,   9.0056,  18.7357,  23.8514,\n",
      "         -25.6983,  -1.7435,  19.3883,   7.1354],\n",
      "        [ -4.5460,  -8.8217,   6.4192,   2.8843,  25.1953,  24.2748,\n",
      "         -16.8386,  -1.2354,  14.6799,  12.5850],\n",
      "        [ -1.4925,  10.9811,   5.4056,   4.6919,  39.1344,  16.8692,\n",
      "         -23.5452,   2.0407,  14.9218,  15.8748],\n",
      "        [ -2.4640,   1.1138,  10.9391,   5.0966,  29.9217,  17.0538,\n",
      "         -23.9503,   0.7834,  26.1383,   9.9819],\n",
      "        [-11.0927,  -4.3041,  14.9493,   6.7283,  19.3435,  13.2697,\n",
      "         -28.4844,  -4.4108,  22.9506,  14.3439],\n",
      "        [ -3.1584,   0.6544,  13.4841,  13.0077,  29.2606,  17.3942,\n",
      "         -24.2942,   7.9717,  18.8291,  19.2214],\n",
      "        [ -6.3922,  -3.6708,  -3.9780,   7.3213,  39.3960,  22.1944,\n",
      "         -22.5230, -10.4101,  13.2297,   9.2608],\n",
      "        [  3.3523,   0.5085,   8.2295,  -0.8405,  25.4300,  16.1225,\n",
      "         -16.0313,   2.1826,  11.3894,  -4.1229],\n",
      "        [ -1.8699,   3.1241,   6.9624,   9.1092,  26.9272,  22.6547,\n",
      "         -30.3958,  -9.9083,  17.6838,   7.9854],\n",
      "        [-13.4054,  -7.7139,   4.5855,   7.9248,  24.7494,  14.0427,\n",
      "         -27.6215,   0.9025,  12.6635,  17.3349],\n",
      "        [ -1.2661,  -3.9309,   8.5530,  11.7816,  29.6685,  23.9611,\n",
      "         -25.8741,  -1.6787,  17.4086,  16.8162],\n",
      "        [ -7.4860,  -1.7722,   4.8066,   6.6851,  34.0413,  13.6074,\n",
      "         -18.1388,   5.6720,  20.6494,  14.6065],\n",
      "        [ -0.6053, -10.2216,   7.9108,  -0.5223,  25.1501,  21.0413,\n",
      "         -24.1936,   5.1636,  12.1369,   6.4454],\n",
      "        [ -5.1895,   2.7636,  -3.4458,   6.0974,  33.4042,  21.6456,\n",
      "         -20.9998,   6.3626,  23.7701,  14.4316],\n",
      "        [ -8.1434,   2.9136,  -0.8374,  12.0313,  28.0799,  17.0910,\n",
      "         -26.5261,   7.2940,  23.6366,  14.7129],\n",
      "        [-10.4692,   3.6450,   3.8044,   3.6709,  26.6305,  21.1427,\n",
      "         -22.4167,   8.5725,   9.5590,   7.0618],\n",
      "        [ -8.3065,  12.0338,   9.0998,   0.6035,  17.7261,  11.5675,\n",
      "         -30.6982,  -1.8851,  11.9838,  12.2288],\n",
      "        [  3.0213,  -1.3334,   6.6751,  18.5313,  32.7469,  14.6347,\n",
      "         -21.0524,   7.1036,  18.9254,  18.6894]]) torch.Size([64, 10])\n"
     ]
    }
   ],
   "source": [
    "## Your solution\n",
    "images=images.view(64,784)\n",
    "weights_from_input_to_hidden= torch.randn((784,256))\n",
    "weights_from_hidden_to_output= torch.randn((256,10))\n",
    "biasA=torch.randn((1,256))\n",
    "biasB=torch.randn((1,10))\n",
    "\n",
    "out = torch.mm(activation(torch.mm(images,weights_from_input_to_hidden)+biasA),weights_from_hidden_to_output)+biasB\n",
    "print(out, out.shape)"
   ]
  },
  {
   "cell_type": "markdown",
   "metadata": {},
   "source": [
    "Now we have 10 outputs for our network. We want to pass in an image to our network and get out a probability distribution over the classes that tells us the likely class(es) the image belongs to. Something that looks like this:\n",
    "<img src='assets/image_distribution.png' width=500px>\n",
    "\n",
    "Here we see that the probability for each class is roughly the same. This is representing an untrained network, it hasn't seen any data yet so it just returns a uniform distribution with equal probabilities for each class.\n",
    "\n",
    "To calculate this probability distribution, we often use the [**softmax** function](https://en.wikipedia.org/wiki/Softmax_function). Mathematically this looks like\n",
    "\n",
    "$$\n",
    "\\Large \\sigma(x_i) = \\cfrac{e^{x_i}}{\\sum_k^K{e^{x_k}}}\n",
    "$$\n",
    "\n",
    "What this does is squish each input $x_i$ between 0 and 1 and normalizes the values to give you a proper probability distribution where the probabilites sum up to one.\n",
    "\n",
    "> **Exercise:** Implement a function `softmax` that performs the softmax calculation and returns probability distributions for each example in the batch. Note that you'll need to pay attention to the shapes when doing this. If you have a tensor `a` with shape `(64, 10)` and a tensor `b` with shape `(64,)`, doing `a/b` will give you an error because PyTorch will try to do the division across the columns (called broadcasting) but you'll get a size mismatch. The way to think about this is for each of the 64 examples, you only want to divide by one value, the sum in the denominator. So you need `b` to have a shape of `(64, 1)`. This way PyTorch will divide the 10 values in each row of `a` by the one value in each row of `b`. Pay attention to how you take the sum as well. You'll need to define the `dim` keyword in `torch.sum`. Setting `dim=0` takes the sum across the rows while `dim=1` takes the sum across the columns."
   ]
  },
  {
   "cell_type": "code",
   "execution_count": 18,
   "metadata": {},
   "outputs": [
    {
     "name": "stdout",
     "output_type": "stream",
     "text": [
      "torch.Size([64, 10])\n",
      "tensor([ 1.0000,  1.0000,  1.0000,  1.0000,  1.0000,  1.0000,  1.0000,\n",
      "         1.0000,  1.0000,  1.0000,  1.0000,  1.0000,  1.0000,  1.0000,\n",
      "         1.0000,  1.0000,  1.0000,  1.0000,  1.0000,  1.0000,  1.0000,\n",
      "         1.0000,  1.0000,  1.0000,  1.0000,  1.0000,  1.0000,  1.0000,\n",
      "         1.0000,  1.0000,  1.0000,  1.0000,  1.0000,  1.0000,  1.0000,\n",
      "         1.0000,  1.0000,  1.0000,  1.0000,  1.0000,  1.0000,  1.0000,\n",
      "         1.0000,  1.0000,  1.0000,  1.0000,  1.0000,  1.0000,  1.0000,\n",
      "         1.0000,  1.0000,  1.0000,  1.0000,  1.0000,  1.0000,  1.0000,\n",
      "         1.0000,  1.0000,  1.0000,  1.0000,  1.0000,  1.0000,  1.0000,\n",
      "         1.0000])\n"
     ]
    }
   ],
   "source": [
    "def softmax(x):\n",
    "    ## TODO: Implement the softmax function here\n",
    "    den=torch.sum(torch.exp(x),dim=1)\n",
    "    den=den.view(64,1)\n",
    "    out=torch.exp(x)/den\n",
    "    return out\n",
    "\n",
    "# Here, out should be the output of the network in the previous excercise with shape (64,10)\n",
    "probabilities = softmax(out)\n",
    "\n",
    "# Does it have the right shape? Should be (64, 10)\n",
    "print(probabilities.shape)\n",
    "# Does it sum to 1?\n",
    "print(probabilities.sum(dim=1))"
   ]
  },
  {
   "cell_type": "markdown",
   "metadata": {},
   "source": [
    "## Building networks with PyTorch\n",
    "\n",
    "PyTorch provides a module `nn` that makes building networks much simpler. Here I'll show you how to build the same one as above with 784 inputs, 256 hidden units, 10 output units and a softmax output."
   ]
  },
  {
   "cell_type": "code",
   "execution_count": 19,
   "metadata": {},
   "outputs": [],
   "source": [
    "from torch import nn"
   ]
  },
  {
   "cell_type": "code",
   "execution_count": 20,
   "metadata": {},
   "outputs": [],
   "source": [
    "class Network(nn.Module):\n",
    "    def __init__(self):\n",
    "        super().__init__()\n",
    "        \n",
    "        # Inputs to hidden layer linear transformation\n",
    "        self.hidden = nn.Linear(784, 256)\n",
    "        # Output layer, 10 units - one for each digit\n",
    "        self.output = nn.Linear(256, 10)\n",
    "        \n",
    "        # Define sigmoid activation and softmax output \n",
    "        self.sigmoid = nn.Sigmoid()\n",
    "        self.softmax = nn.Softmax(dim=1)\n",
    "        \n",
    "    def forward(self, x):\n",
    "        # Pass the input tensor through each of our operations\n",
    "        x = self.hidden(x)\n",
    "        x = self.sigmoid(x)\n",
    "        x = self.output(x)\n",
    "        x = self.softmax(x)\n",
    "        \n",
    "        return x"
   ]
  },
  {
   "cell_type": "markdown",
   "metadata": {},
   "source": [
    "Let's go through this bit by bit.\n",
    "\n",
    "```python\n",
    "class Network(nn.Module):\n",
    "```\n",
    "\n",
    "Here we're inheriting from `nn.Module`. Combined with `super().__init__()` this creates a class that tracks the architecture and provides a lot of useful methods and attributes. It is mandatory to inherit from `nn.Module` when you're creating a class for your network. The name of the class itself can be anything.\n",
    "\n",
    "```python\n",
    "self.hidden = nn.Linear(784, 256)\n",
    "```\n",
    "\n",
    "This line creates a module for a linear transformation, $x\\mathbf{W} + b$, with 784 inputs and 256 outputs and assigns it to `self.hidden`. The module automatically creates the weight and bias tensors which we'll use in the `forward` method. You can access the weight and bias tensors once the network (`net`) is created with `net.hidden.weight` and `net.hidden.bias`.\n",
    "\n",
    "```python\n",
    "self.output = nn.Linear(256, 10)\n",
    "```\n",
    "\n",
    "Similarly, this creates another linear transformation with 256 inputs and 10 outputs.\n",
    "\n",
    "```python\n",
    "self.sigmoid = nn.Sigmoid()\n",
    "self.softmax = nn.Softmax(dim=1)\n",
    "```\n",
    "\n",
    "Here I defined operations for the sigmoid activation and softmax output. Setting `dim=1` in `nn.Softmax(dim=1)` calculates softmax across the columns.\n",
    "\n",
    "```python\n",
    "def forward(self, x):\n",
    "```\n",
    "\n",
    "PyTorch networks created with `nn.Module` must have a `forward` method defined. It takes in a tensor `x` and passes it through the operations you defined in the `__init__` method.\n",
    "\n",
    "```python\n",
    "x = self.hidden(x)\n",
    "x = self.sigmoid(x)\n",
    "x = self.output(x)\n",
    "x = self.softmax(x)\n",
    "```\n",
    "\n",
    "Here the input tensor `x` is passed through each operation a reassigned to `x`. We can see that the input tensor goes through the hidden layer, then a sigmoid function, then the output layer, and finally the softmax function. It doesn't matter what you name the variables here, as long as the inputs and outputs of the operations match the network architecture you want to build. The order in which you define things in the `__init__` method doesn't matter, but you'll need to sequence the operations correctly in the `forward` method.\n",
    "\n",
    "Now we can create a `Network` object."
   ]
  },
  {
   "cell_type": "code",
   "execution_count": 21,
   "metadata": {},
   "outputs": [
    {
     "data": {
      "text/plain": [
       "Network(\n",
       "  (hidden): Linear(in_features=784, out_features=256, bias=True)\n",
       "  (output): Linear(in_features=256, out_features=10, bias=True)\n",
       "  (sigmoid): Sigmoid()\n",
       "  (softmax): Softmax()\n",
       ")"
      ]
     },
     "execution_count": 21,
     "metadata": {},
     "output_type": "execute_result"
    }
   ],
   "source": [
    "# Create the network and look at it's text representation\n",
    "model = Network()\n",
    "model"
   ]
  },
  {
   "cell_type": "markdown",
   "metadata": {},
   "source": [
    "You can define the network somewhat more concisely and clearly using the `torch.nn.functional` module. This is the most common way you'll see networks defined as many operations are simple element-wise functions. We normally import this module as `F`, `import torch.nn.functional as F`."
   ]
  },
  {
   "cell_type": "code",
   "execution_count": 22,
   "metadata": {},
   "outputs": [],
   "source": [
    "import torch.nn.functional as F\n",
    "\n",
    "class Network(nn.Module):\n",
    "    def __init__(self):\n",
    "        super().__init__()\n",
    "        # Inputs to hidden layer linear transformation\n",
    "        self.hidden = nn.Linear(784, 256)\n",
    "        # Output layer, 10 units - one for each digit\n",
    "        self.output = nn.Linear(256, 10)\n",
    "        \n",
    "    def forward(self, x):\n",
    "        # Hidden layer with sigmoid activation\n",
    "        x = F.sigmoid(self.hidden(x))\n",
    "        # Output layer with softmax activation\n",
    "        x = F.softmax(self.output(x), dim=1)\n",
    "        \n",
    "        return x"
   ]
  },
  {
   "cell_type": "markdown",
   "metadata": {},
   "source": [
    "### Activation functions\n",
    "\n",
    "So far we've only been looking at the softmax activation, but in general any function can be used as an activation function. The only requirement is that for a network to approximate a non-linear function, the activation functions must be non-linear. Here are a few more examples of common activation functions: Tanh (hyperbolic tangent), and ReLU (rectified linear unit).\n",
    "\n",
    "<img src=\"assets/activation.png\" width=700px>\n",
    "\n",
    "In practice, the ReLU function is used almost exclusively as the activation function for hidden layers."
   ]
  },
  {
   "cell_type": "markdown",
   "metadata": {},
   "source": [
    "### Your Turn to Build a Network\n",
    "\n",
    "<img src=\"assets/mlp_mnist.png\" width=600px>\n",
    "\n",
    "> **Exercise:** Create a network with 784 input units, a hidden layer with 128 units and a ReLU activation, then a hidden layer with 64 units and a ReLU activation, and finally an output layer with a softmax activation as shown above. You can use a ReLU activation with the `nn.ReLU` module or `F.relu` function."
   ]
  },
  {
   "cell_type": "code",
   "execution_count": 28,
   "metadata": {
    "scrolled": true
   },
   "outputs": [
    {
     "data": {
      "text/plain": [
       "myNetwork(\n",
       "  (hidden_layer_1): Linear(in_features=784, out_features=128, bias=True)\n",
       "  (hidden_layer_2): Linear(in_features=128, out_features=64, bias=True)\n",
       "  (output): Linear(in_features=64, out_features=10, bias=True)\n",
       ")"
      ]
     },
     "execution_count": 28,
     "metadata": {},
     "output_type": "execute_result"
    }
   ],
   "source": [
    "## Your solution here\n",
    "class myNetwork(nn.Module):\n",
    "    def __init__(self):\n",
    "        super().__init__()\n",
    "        self.hidden_layer_1=nn.Linear(784,128)\n",
    "        self.hidden_layer_2=nn.Linear(128,64)\n",
    "        self.output=nn.Linear(64,10)\n",
    "    def forward(self,x):\n",
    "        x=F.relu(self.hidden_layer_1(x))\n",
    "        x=F.relu(self.hidden_layer_2(x))\n",
    "        x=self.output(x)\n",
    "        x = F.softmax(x, dim=1)\n",
    "        return x\n",
    "model= myNetwork()\n",
    "model"
   ]
  },
  {
   "cell_type": "markdown",
   "metadata": {},
   "source": [
    "### Initializing weights and biases\n",
    "\n",
    "The weights and such are automatically initialized for you, but it's possible to customize how they are initialized. The weights and biases are tensors attached to the layer you defined, you can get them with `model.fc1.weight` for instance."
   ]
  },
  {
   "cell_type": "code",
   "execution_count": 29,
   "metadata": {},
   "outputs": [
    {
     "name": "stdout",
     "output_type": "stream",
     "text": [
      "Parameter containing:\n",
      "tensor([[ 1.7511e-02,  3.3444e-02,  3.0946e-02,  ...,  2.3249e-02,\n",
      "         -1.5030e-02,  2.0350e-02],\n",
      "        [ 1.2116e-02,  1.0705e-02,  2.4196e-02,  ..., -1.6261e-02,\n",
      "         -3.3464e-02, -3.1631e-02],\n",
      "        [-6.9551e-03,  6.1044e-03,  3.5164e-02,  ...,  2.5525e-02,\n",
      "          1.6596e-02,  3.3139e-02],\n",
      "        ...,\n",
      "        [-1.0042e-02,  7.9063e-03, -2.6686e-02,  ...,  1.8646e-02,\n",
      "         -3.5182e-03, -3.0001e-02],\n",
      "        [-3.1641e-02, -1.8933e-02, -1.6336e-02,  ...,  3.0286e-02,\n",
      "          2.2092e-02, -3.1505e-02],\n",
      "        [-6.7500e-03, -1.0831e-02, -2.3576e-02,  ..., -1.7053e-02,\n",
      "          2.8473e-03,  4.2945e-03]])\n",
      "Parameter containing:\n",
      "tensor(1.00000e-02 *\n",
      "       [-1.7416,  2.8656,  1.8822, -0.9632, -1.4286, -0.8134,  2.4863,\n",
      "        -3.0876, -2.3218, -2.5420, -0.5798,  2.1237,  0.8513, -3.2020,\n",
      "        -0.6013,  0.0150, -1.0994, -0.7085, -3.0876,  2.4908, -0.2809,\n",
      "        -0.1165, -2.1639, -1.3421,  3.0297,  3.3245, -3.5054,  0.0519,\n",
      "         2.6690, -0.0714, -0.6848, -0.5855, -2.0181,  1.1175,  2.9586,\n",
      "         3.1204,  0.6852, -2.3847, -3.1085,  1.5797,  0.1014, -2.6137,\n",
      "        -1.8588, -1.2192, -2.8455, -1.7056,  3.0482, -0.5940,  1.1873,\n",
      "         2.1047, -2.2251,  3.5267, -2.8919, -0.1743,  3.0436, -0.6187,\n",
      "         1.4539, -2.7805,  2.5922, -1.0421, -1.9998,  1.7162,  3.0413,\n",
      "        -3.0824,  3.3074, -3.1755,  2.8060,  2.4483,  1.3275,  3.4203,\n",
      "        -1.8799, -2.5929,  3.0306, -2.6497, -0.2605,  2.2274, -2.4627,\n",
      "         3.2939,  3.4229,  3.3048,  0.1270,  1.3004,  1.1976, -1.9143,\n",
      "        -1.7745, -0.8732,  0.2782, -2.0865,  0.9175,  2.0708, -0.5066,\n",
      "         1.5221, -2.8442, -1.5743,  1.4196,  2.2390,  2.5401,  1.5019,\n",
      "         2.0164,  2.3733,  0.1617,  3.4700,  0.6987,  1.6091, -1.2838,\n",
      "         3.2579, -0.6781, -0.1669,  3.2952, -2.8528,  1.9390, -3.4081,\n",
      "         0.7648,  3.4261, -0.0909, -1.6923, -1.8924, -3.1842, -1.0748,\n",
      "        -3.4060,  2.7075,  1.7750,  0.3574, -2.2916, -0.2273,  1.4744,\n",
      "         1.3109, -1.9690])\n"
     ]
    }
   ],
   "source": [
    "print(model.hidden_layer_1.weight)\n",
    "print(model.hidden_layer_1.bias)"
   ]
  },
  {
   "cell_type": "markdown",
   "metadata": {},
   "source": [
    "For custom initialization, we want to modify these tensors in place. These are actually autograd *Variables*, so we need to get back the actual tensors with `model.fc1.weight.data`. Once we have the tensors, we can fill them with zeros (for biases) or random normal values."
   ]
  },
  {
   "cell_type": "code",
   "execution_count": 30,
   "metadata": {},
   "outputs": [
    {
     "data": {
      "text/plain": [
       "tensor([ 0.,  0.,  0.,  0.,  0.,  0.,  0.,  0.,  0.,  0.,  0.,  0.,\n",
       "         0.,  0.,  0.,  0.,  0.,  0.,  0.,  0.,  0.,  0.,  0.,  0.,\n",
       "         0.,  0.,  0.,  0.,  0.,  0.,  0.,  0.,  0.,  0.,  0.,  0.,\n",
       "         0.,  0.,  0.,  0.,  0.,  0.,  0.,  0.,  0.,  0.,  0.,  0.,\n",
       "         0.,  0.,  0.,  0.,  0.,  0.,  0.,  0.,  0.,  0.,  0.,  0.,\n",
       "         0.,  0.,  0.,  0.,  0.,  0.,  0.,  0.,  0.,  0.,  0.,  0.,\n",
       "         0.,  0.,  0.,  0.,  0.,  0.,  0.,  0.,  0.,  0.,  0.,  0.,\n",
       "         0.,  0.,  0.,  0.,  0.,  0.,  0.,  0.,  0.,  0.,  0.,  0.,\n",
       "         0.,  0.,  0.,  0.,  0.,  0.,  0.,  0.,  0.,  0.,  0.,  0.,\n",
       "         0.,  0.,  0.,  0.,  0.,  0.,  0.,  0.,  0.,  0.,  0.,  0.,\n",
       "         0.,  0.,  0.,  0.,  0.,  0.,  0.,  0.])"
      ]
     },
     "execution_count": 30,
     "metadata": {},
     "output_type": "execute_result"
    }
   ],
   "source": [
    "# Set biases to all zeros\n",
    "model.hidden_layer_1.bias.data.fill_(0)"
   ]
  },
  {
   "cell_type": "code",
   "execution_count": 31,
   "metadata": {},
   "outputs": [
    {
     "data": {
      "text/plain": [
       "tensor([[ 5.2061e-03,  5.0831e-03, -1.7074e-02,  ...,  6.9806e-03,\n",
       "          1.7285e-02, -1.6722e-02],\n",
       "        [ 1.0130e-02,  4.7037e-03, -3.0070e-03,  ...,  2.2083e-02,\n",
       "          3.2440e-03, -1.3250e-02],\n",
       "        [ 8.6442e-03, -1.5247e-02, -1.3464e-02,  ...,  2.4255e-03,\n",
       "          8.4488e-03, -8.9213e-03],\n",
       "        ...,\n",
       "        [-9.8583e-03, -9.9504e-05, -1.4530e-02,  ..., -5.4242e-03,\n",
       "          5.6299e-03, -1.7411e-02],\n",
       "        [-8.9423e-03,  1.5654e-04,  7.6197e-03,  ...,  1.3355e-02,\n",
       "          1.1658e-02,  1.0705e-03],\n",
       "        [-1.8024e-02,  5.3691e-04,  5.7478e-03,  ..., -8.3229e-03,\n",
       "          5.0315e-03, -1.3971e-03]])"
      ]
     },
     "execution_count": 31,
     "metadata": {},
     "output_type": "execute_result"
    }
   ],
   "source": [
    "# sample from random normal with standard dev = 0.01\n",
    "model.hidden_layer_1.weight.data.normal_(std=0.01)"
   ]
  },
  {
   "cell_type": "markdown",
   "metadata": {},
   "source": [
    "### Forward pass\n",
    "\n",
    "Now that we have a network, let's see what happens when we pass in an image."
   ]
  },
  {
   "cell_type": "code",
   "execution_count": 32,
   "metadata": {},
   "outputs": [
    {
     "data": {
      "image/png": "[encoded data removed]",
      "text/plain": [
       "<matplotlib.figure.Figure at 0x7f6ec7f825c0>"
      ]
     },
     "metadata": {
      "image/png": {
       "height": 224,
       "width": 423
      },
      "needs_background": "light"
     },
     "output_type": "display_data"
    }
   ],
   "source": [
    "# Grab some data \n",
    "dataiter = iter(trainloader)\n",
    "images, labels = dataiter.next()\n",
    "\n",
    "# Resize images into a 1D vector, new shape is (batch size, color channels, image pixels) \n",
    "images.resize_(64, 1, 784)\n",
    "# or images.resize_(images.shape[0], 1, 784) to automatically get batch size\n",
    "\n",
    "# Forward pass through the network\n",
    "img_idx = 0\n",
    "ps = model.forward(images[img_idx,:])\n",
    "\n",
    "img = images[img_idx]\n",
    "helper.view_classify(img.view(1, 28, 28), ps)"
   ]
  },
  {
   "cell_type": "markdown",
   "metadata": {},
   "source": [
    "As you can see above, our network has basically no idea what this digit is. It's because we haven't trained it yet, all the weights are random!\n",
    "\n",
    "### Using `nn.Sequential`\n",
    "\n",
    "PyTorch provides a convenient way to build networks like this where a tensor is passed sequentially through operations, `nn.Sequential` ([documentation](https://pytorch.org/docs/master/nn.html#torch.nn.Sequential)). Using this to build the equivalent network:"
   ]
  },
  {
   "cell_type": "code",
   "execution_count": 33,
   "metadata": {},
   "outputs": [
    {
     "name": "stdout",
     "output_type": "stream",
     "text": [
      "Sequential(\n",
      "  (0): Linear(in_features=784, out_features=128, bias=True)\n",
      "  (1): ReLU()\n",
      "  (2): Linear(in_features=128, out_features=64, bias=True)\n",
      "  (3): ReLU()\n",
      "  (4): Linear(in_features=64, out_features=10, bias=True)\n",
      "  (5): Softmax()\n",
      ")\n"
     ]
    },
    {
     "data": {
      "image/png": "[encoded data removed]",
      "text/plain": [
       "<matplotlib.figure.Figure at 0x7f6e6ae553c8>"
      ]
     },
     "metadata": {
      "image/png": {
       "height": 224,
       "width": 423
      },
      "needs_background": "light"
     },
     "output_type": "display_data"
    }
   ],
   "source": [
    "# Hyperparameters for our network\n",
    "input_size = 784\n",
    "hidden_sizes = [128, 64]\n",
    "output_size = 10\n",
    "\n",
    "# Build a feed-forward network\n",
    "model = nn.Sequential(nn.Linear(input_size, hidden_sizes[0]),\n",
    "                      nn.ReLU(),\n",
    "                      nn.Linear(hidden_sizes[0], hidden_sizes[1]),\n",
    "                      nn.ReLU(),\n",
    "                      nn.Linear(hidden_sizes[1], output_size),\n",
    "                      nn.Softmax(dim=1))\n",
    "print(model)\n",
    "\n",
    "# Forward pass through the network and display output\n",
    "images, labels = next(iter(trainloader))\n",
    "images.resize_(images.shape[0], 1, 784)\n",
    "ps = model.forward(images[0,:])\n",
    "helper.view_classify(images[0].view(1, 28, 28), ps)"
   ]
  },
  {
   "cell_type": "markdown",
   "metadata": {},
   "source": [
    "Here our model is the same as before: 784 input units, a hidden layer with 128 units, ReLU activation, 64 unit hidden layer, another ReLU, then the output layer with 10 units, and the softmax output.\n",
    "\n",
    "The operations are availble by passing in the appropriate index. For example, if you want to get first Linear operation and look at the weights, you'd use `model[0]`."
   ]
  },
  {
   "cell_type": "code",
   "execution_count": 34,
   "metadata": {},
   "outputs": [
    {
     "name": "stdout",
     "output_type": "stream",
     "text": [
      "Linear(in_features=784, out_features=128, bias=True)\n"
     ]
    },
    {
     "data": {
      "text/plain": [
       "Parameter containing:\n",
       "tensor([[-3.1624e-02, -4.1976e-03, -1.7292e-02,  ...,  3.5201e-03,\n",
       "          1.8421e-02,  1.7360e-02],\n",
       "        [ 3.0781e-02,  1.9042e-02,  3.3946e-02,  ..., -1.4360e-02,\n",
       "         -2.5430e-02,  9.0698e-03],\n",
       "        [-2.9457e-02,  1.8960e-02,  3.4609e-02,  ..., -2.9485e-02,\n",
       "         -3.1782e-02, -1.8397e-02],\n",
       "        ...,\n",
       "        [ 1.7822e-02, -2.2381e-02, -1.9593e-02,  ...,  1.7121e-03,\n",
       "          3.1469e-02, -1.3250e-02],\n",
       "        [-9.5276e-03,  7.5816e-03, -2.9811e-02,  ...,  3.2691e-02,\n",
       "          5.0902e-03, -3.1070e-03],\n",
       "        [-3.5571e-02,  5.7828e-03, -2.5948e-03,  ..., -9.1378e-03,\n",
       "          1.7518e-02,  1.2293e-02]])"
      ]
     },
     "execution_count": 34,
     "metadata": {},
     "output_type": "execute_result"
    }
   ],
   "source": [
    "print(model[0])\n",
    "model[0].weight"
   ]
  },
  {
   "cell_type": "markdown",
   "metadata": {},
   "source": [
    "You can also pass in an `OrderedDict` to name the individual layers and operations, instead of using incremental integers. Note that dictionary keys must be unique, so _each operation must have a different name_."
   ]
  },
  {
   "cell_type": "code",
   "execution_count": 35,
   "metadata": {},
   "outputs": [
    {
     "data": {
      "text/plain": [
       "Sequential(\n",
       "  (fc1): Linear(in_features=784, out_features=128, bias=True)\n",
       "  (relu1): ReLU()\n",
       "  (fc2): Linear(in_features=128, out_features=64, bias=True)\n",
       "  (relu2): ReLU()\n",
       "  (output): Linear(in_features=64, out_features=10, bias=True)\n",
       "  (softmax): Softmax()\n",
       ")"
      ]
     },
     "execution_count": 35,
     "metadata": {},
     "output_type": "execute_result"
    }
   ],
   "source": [
    "from collections import OrderedDict\n",
    "model = nn.Sequential(OrderedDict([\n",
    "                      ('fc1', nn.Linear(input_size, hidden_sizes[0])),\n",
    "                      ('relu1', nn.ReLU()),\n",
    "                      ('fc2', nn.Linear(hidden_sizes[0], hidden_sizes[1])),\n",
    "                      ('relu2', nn.ReLU()),\n",
    "                      ('output', nn.Linear(hidden_sizes[1], output_size)),\n",
    "                      ('softmax', nn.Softmax(dim=1))]))\n",
    "model"
   ]
  },
  {
   "cell_type": "markdown",
   "metadata": {},
   "source": [
    "Now you can access layers either by integer or the name"
   ]
  },
  {
   "cell_type": "code",
   "execution_count": 36,
   "metadata": {},
   "outputs": [
    {
     "name": "stdout",
     "output_type": "stream",
     "text": [
      "Linear(in_features=784, out_features=128, bias=True)\n",
      "Linear(in_features=784, out_features=128, bias=True)\n"
     ]
    }
   ],
   "source": [
    "print(model[0])\n",
    "print(model.fc1)"
   ]
  },
  {
   "cell_type": "markdown",
   "metadata": {},
   "source": [
    "In the next notebook, we'll see how we can train a neural network to accuractly predict the numbers appearing in the MNIST images."
   ]
  }
 ],
 "metadata": {
  "kernelspec": {
   "display_name": "Python 3",
   "language": "python",
   "name": "python3"
  },
  "language_info": {
   "codemirror_mode": {
    "name": "ipython",
    "version": 3
   },
   "file_extension": ".py",
   "mimetype": "text/x-python",
   "name": "python",
   "nbconvert_exporter": "python",
   "pygments_lexer": "ipython3",
   "version": "3.6.3"
  }
 },
 "nbformat": 4,
 "nbformat_minor": 2
}
